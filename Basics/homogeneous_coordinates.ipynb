{
 "cells": [
  {
   "cell_type": "markdown",
   "metadata": {},
   "source": [
    "This is a note for [Homogenous Coordinates (Cyrill Stachniss, 2020)](https://youtu.be/MQdm0Z_gNcw)"
   ]
  },
  {
   "cell_type": "code",
   "execution_count": 1,
   "metadata": {},
   "outputs": [],
   "source": [
    "using LinearAlgebra\n",
    "using Random\n",
    "using Distributions"
   ]
  },
  {
   "cell_type": "code",
   "execution_count": 2,
   "metadata": {},
   "outputs": [],
   "source": [
    "struct EuclidianCoord{T<:Real}\n",
    "    coord::AbstractVector{T}\n",
    "end"
   ]
  },
  {
   "cell_type": "markdown",
   "metadata": {},
   "source": [
    "### Homogeneous coordicates have two advantages over Euclidian:\n",
    "- can represent ponit at infinity with direction.\n",
    "- all projective transformations as matrix multiplication."
   ]
  },
  {
   "cell_type": "markdown",
   "metadata": {},
   "source": [
    "### Homogeneous coordicates have two properties:\n",
    "- norm cannot be 0.\n",
    "- multiplying a non-zero scale does not change the coordinates, hence homogeneous."
   ]
  },
  {
   "cell_type": "code",
   "execution_count": 3,
   "metadata": {},
   "outputs": [],
   "source": [
    "struct HomogeneousCoord{T<:Real}\n",
    "    coord::AbstractVector{T}\n",
    "    function HomogeneousCoord(coord::AbstractVector{T}) where {T<:Real}\n",
    "        @assert norm(coord) != 0 \"Homogeneous coordicates cannot be all zeros.\"\n",
    "        new{T}(coord)\n",
    "    end\n",
    "end\n",
    "\n",
    "function HomogeneousCoord(p::EuclidianCoord):HomogeneousCoord\n",
    "    HomogeneousCoord([p.coord; [1]])\n",
    "end\n",
    "\n",
    "function EuclidianCoord(p::HomogeneousCoord):EuclidianCoord\n",
    "    EuclidianCoord(p.coord[1:end-1]./p.coord[end])\n",
    "end\n",
    "\n",
    "import Base.==\n",
    "function ==(p1::HomogeneousCoord, p2::HomogeneousCoord):Bool\n",
    "    if size(p1.coord) != size(p2.coord)\n",
    "        return false\n",
    "    end\n",
    "    return p1.coord / norm(p1.coord) == p2.coord / norm(p2.coord)\n",
    "end\n",
    "\n",
    "import Base.isapprox\n",
    "function isapprox(p1::HomogeneousCoord, p2::HomogeneousCoord):Bool\n",
    "    if size(p1.coord) != size(p2.coord)\n",
    "        return false\n",
    "    end\n",
    "    return p1.coord / norm(p1.coord) ≈ p2.coord / norm(p2.coord)\n",
    "end;"
   ]
  },
  {
   "cell_type": "markdown",
   "metadata": {},
   "source": [
    "Test cases for HomogeneousCoord"
   ]
  },
  {
   "cell_type": "code",
   "execution_count": 4,
   "metadata": {},
   "outputs": [],
   "source": [
    "pe = EuclidianCoord([1,2,3])\n",
    "ph = HomogeneousCoord(pe)\n",
    "pe_back = EuclidianCoord(ph)\n",
    "@assert pe.coord == pe_back.coord\n",
    "@assert HomogeneousCoord([1,2,3,4]) == HomogeneousCoord([2,4,6,8])"
   ]
  },
  {
   "cell_type": "markdown",
   "metadata": {},
   "source": [
    "### 2D lines and 3D planes's coefficients can also be represented as homogeneous coordinates.\n",
    "In 2D; a point or a line are represented as a 3d homogeneous coordindate. \n",
    "- cross product of two points gives a line.  \n",
    "- cross product of two lines gives the intersection point.\n",
    "\n",
    "P.S. Lines in n-D has 2*(n-1) degree of freedom"
   ]
  },
  {
   "cell_type": "code",
   "execution_count": 5,
   "metadata": {},
   "outputs": [],
   "source": [
    "struct Line{T<:Real}\n",
    "    coeff::HomogeneousCoord{T}\n",
    "end\n",
    "\n",
    "function Line(coeff::AbstractVector{T}) where {T<:Real}\n",
    "    @assert size(coeff, 1) == 3 \"A 2D line can be represented with 3 coeffecients.\"\n",
    "    Line(HomogeneousCoord(coeff))\n",
    "end\n",
    "\n",
    "# The cross product of the homogeneous coord of two points is the line pass through these two points.\n",
    "function Line(p1::HomogeneousCoord, p2::HomogeneousCoord)\n",
    "    return Line(cross(p1.coord, p2.coord))\n",
    "end\n",
    "\n",
    "import Base.==\n",
    "function ==(l1::Line, l2::Line):Bool\n",
    "    return l1.coeff == norm(l2.coeff)\n",
    "end;"
   ]
  },
  {
   "cell_type": "code",
   "execution_count": 6,
   "metadata": {},
   "outputs": [],
   "source": [
    "function on(p::HomogeneousCoord, l::Line)::Bool\n",
    "    return dot(p.coord, l.coeff.coord) ≈ 0\n",
    "end\n",
    "\n",
    "# The cross product of the two lines is the homogeneous coordinate of the intersection point of these two lines.\n",
    "function intersect(l1::Line, l2::Line)::HomogeneousCoord\n",
    "    return HomogeneousCoord(cross(l1.coeff.coord,l2.coeff.coord))\n",
    "end;"
   ]
  },
  {
   "cell_type": "markdown",
   "metadata": {},
   "source": [
    "### Two parallel lines intersect at a point at infinity"
   ]
  },
  {
   "cell_type": "code",
   "execution_count": 7,
   "metadata": {},
   "outputs": [],
   "source": [
    "p = intersect(Line([1,2,3]), Line([1,2,31]))\n",
    "@assert p.coord[3] == 0"
   ]
  },
  {
   "cell_type": "markdown",
   "metadata": {},
   "source": [
    "### All points at infinity are all on the ideal line: Line([0,0,1])\n",
    "Since these are 2D points and 2D lines, you can imagine all points and lines are on the ground, and Line([0,0,a]) is the **horizon**."
   ]
  },
  {
   "cell_type": "code",
   "execution_count": 8,
   "metadata": {},
   "outputs": [],
   "source": [
    "@assert on(HomogeneousCoord([1,2,0]), Line([0,0,1]))"
   ]
  },
  {
   "cell_type": "code",
   "execution_count": 9,
   "metadata": {},
   "outputs": [],
   "source": [
    "struct Plane{T<:Real}\n",
    "    coeff::HomogeneousCoord{T}\n",
    "end\n",
    "\n",
    "function Plane(coeff::AbstractVector{T}) where {T<:Real}\n",
    "    @assert size(coeff, 1) == 4 \"A 3D place can be represented with 4 coeffecients.\"\n",
    "    Plane(HomogeneousCoord(coeff))\n",
    "end\n",
    "\n",
    "import Base.==\n",
    "function ==(p1::Plane, p2::Plane):Bool\n",
    "    return p1.coeff == p2.coeff\n",
    "end;"
   ]
  },
  {
   "cell_type": "code",
   "execution_count": 10,
   "metadata": {},
   "outputs": [],
   "source": [
    "function on(p::HomogeneousCoord, plane::Plane)::Bool\n",
    "    return dot(p.coord, plane.coeff.coord) ≈ 0\n",
    "end;"
   ]
  },
  {
   "cell_type": "markdown",
   "metadata": {},
   "source": [
    "### All points at infinity are all on the same plane: Plane([0,0,0,1])\n",
    "Imagine this as the **sky**"
   ]
  },
  {
   "cell_type": "code",
   "execution_count": 11,
   "metadata": {},
   "outputs": [],
   "source": [
    "@assert on(HomogeneousCoord([1,2,3,0]), Plane([0,0,0,1]))"
   ]
  },
  {
   "cell_type": "markdown",
   "metadata": {},
   "source": [
    "### Transformation\n",
    "- projective: 8/15 dof (2d/3d)\n",
    "- affine: 6/12 dof\n",
    "    - parallel line preserving\n",
    "    - angle may change\n",
    "- simimarity: 4/7 dof\n",
    "    - angle preserving\n",
    "    - size may change\n",
    "- rigid body/motion: 3/6 dof\n",
    "    - size and shape preserving\n",
    "    - translation: 2/3 dof\n",
    "    - rotation: 1/3 dof"
   ]
  },
  {
   "cell_type": "code",
   "execution_count": 12,
   "metadata": {},
   "outputs": [],
   "source": [
    "struct Transformation{T<:Real}\n",
    "    matrix::AbstractMatrix{T}\n",
    "    function Transformation(matrix::AbstractMatrix{T}) where {T<:Real}\n",
    "        @assert matrix[end, end] == 1 \"The lower right corner has to be 1.\"\n",
    "        new{T}(matrix)\n",
    "    end\n",
    "end\n",
    "\n",
    "function Transformation(A::AbstractMatrix, t::AbstractVector, a::AbstractVector)\n",
    "    # For 3d, A: 3 rot + 3 scale + 3 sheer; t: 3 trans; a: 3 projective\n",
    "    Transformation([A t; transpose(a) 1])\n",
    "end;"
   ]
  },
  {
   "cell_type": "code",
   "execution_count": 13,
   "metadata": {},
   "outputs": [
    {
     "data": {
      "text/plain": [
       "4×4 Array{Float64,2}:\n",
       "  1.0  2.0  3.0  0.0\n",
       "  3.0  3.0  3.0  1.0\n",
       " 11.0  1.0  1.0  3.0\n",
       "  2.0  3.0  1.0  1.0"
      ]
     },
     "execution_count": 13,
     "metadata": {},
     "output_type": "execute_result"
    }
   ],
   "source": [
    "t = Transformation([1 2 3;3 3 3;11 1 1], [0.0,1,3], [2,3,1])\n",
    "t.matrix"
   ]
  }
 ],
 "metadata": {
  "kernelspec": {
   "display_name": "Julia 1.5.3",
   "language": "julia",
   "name": "julia-1.5"
  },
  "language_info": {
   "file_extension": ".jl",
   "mimetype": "application/julia",
   "name": "julia",
   "version": "1.5.3"
  }
 },
 "nbformat": 4,
 "nbformat_minor": 4
}
